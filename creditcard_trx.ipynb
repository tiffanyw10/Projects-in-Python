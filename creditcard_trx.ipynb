{
 "cells": [
  {
   "cell_type": "markdown",
   "id": "224e249b-d1a5-405f-a595-f04737d78f39",
   "metadata": {},
   "source": [
    "# Credit card transaction fraud classification\n",
    "\n",
    "The `card_transdata_1.csv` dataset contains features that can be used to determine if a credit card transaction is genuine or fraud.  In particular, the dataset includes the following columns:\n",
    "- `distance_from_home`: the distance from home where the transaction happened.\n",
    "- `distance_from_last_transaction`: the distance from last transaction happened.\n",
    "- `ratio_to_median_purchase_price`: ratio of purchased price transaction to median purchase price.\n",
    "- `repeat_retailer`: is the transaction happened from same retailer.\n",
    "- `used_chip`: is the transaction through chip (credit card).\n",
    "- `used_pin_number`: is the transaction happened by using PIN number.\n",
    "- `online_order`: is the transaction an online order.\n",
    "- `fraud`: is the transaction fraudulent.\n",
    "\n",
    "I will construct a mathematical model using logistic regression to determine if a transaction is fraud or genuine."
   ]
  },
  {
   "cell_type": "code",
   "execution_count": 13,
   "id": "d5f4e0c0-2402-46c1-a0ea-3848749a79e4",
   "metadata": {},
   "outputs": [
    {
     "name": "stdout",
     "output_type": "stream",
     "text": [
      "packages imported\n"
     ]
    }
   ],
   "source": [
    "import numpy as np\n",
    "import matplotlib.pyplot as plt\n",
    "import pandas as pd\n",
    "from sklearn.linear_model import LogisticRegression\n",
    "from sklearn.model_selection import train_test_split\n",
    "from sklearn.metrics import confusion_matrix\n",
    "from sklearn.preprocessing import StandardScaler\n",
    "\n",
    "print(\"packages imported\")"
   ]
  },
  {
   "cell_type": "code",
   "execution_count": 14,
   "id": "cf8f6cc8-7dc5-43c2-bd3f-7043fa86a3bc",
   "metadata": {},
   "outputs": [
    {
     "name": "stdout",
     "output_type": "stream",
     "text": [
      "<class 'pandas.core.frame.DataFrame'>\n",
      "RangeIndex: 10000 entries, 0 to 9999\n",
      "Data columns (total 8 columns):\n",
      " #   Column                          Non-Null Count  Dtype  \n",
      "---  ------                          --------------  -----  \n",
      " 0   distance_from_home              10000 non-null  float64\n",
      " 1   distance_from_last_transaction  10000 non-null  float64\n",
      " 2   ratio_to_median_purchase_price  10000 non-null  float64\n",
      " 3   repeat_retailer                 10000 non-null  int64  \n",
      " 4   used_chip                       10000 non-null  int64  \n",
      " 5   used_pin_number                 10000 non-null  int64  \n",
      " 6   online_order                    10000 non-null  int64  \n",
      " 7   fraud                           10000 non-null  int64  \n",
      "dtypes: float64(3), int64(5)\n",
      "memory usage: 625.1 KB\n"
     ]
    }
   ],
   "source": [
    "#fraud  data \n",
    "fraud_data = pd.read_csv('card_transdata_1.csv')\n",
    "\n",
    "fraud = pd.DataFrame(fraud_data)\n",
    "fraud.info()"
   ]
  },
  {
   "cell_type": "code",
   "execution_count": 15,
   "id": "5a890b7e-405a-452d-bb1e-d85a27b4b690",
   "metadata": {},
   "outputs": [
    {
     "data": {
      "text/html": [
       "<div>\n",
       "<style scoped>\n",
       "    .dataframe tbody tr th:only-of-type {\n",
       "        vertical-align: middle;\n",
       "    }\n",
       "\n",
       "    .dataframe tbody tr th {\n",
       "        vertical-align: top;\n",
       "    }\n",
       "\n",
       "    .dataframe thead th {\n",
       "        text-align: right;\n",
       "    }\n",
       "</style>\n",
       "<table border=\"1\" class=\"dataframe\">\n",
       "  <thead>\n",
       "    <tr style=\"text-align: right;\">\n",
       "      <th></th>\n",
       "      <th>distance_from_home</th>\n",
       "      <th>distance_from_last_transaction</th>\n",
       "      <th>ratio_to_median_purchase_price</th>\n",
       "      <th>repeat_retailer</th>\n",
       "      <th>used_chip</th>\n",
       "      <th>used_pin_number</th>\n",
       "      <th>online_order</th>\n",
       "      <th>fraud</th>\n",
       "    </tr>\n",
       "  </thead>\n",
       "  <tbody>\n",
       "    <tr>\n",
       "      <th>0</th>\n",
       "      <td>57.877857</td>\n",
       "      <td>0.311140</td>\n",
       "      <td>1.945940</td>\n",
       "      <td>1</td>\n",
       "      <td>1</td>\n",
       "      <td>0</td>\n",
       "      <td>0</td>\n",
       "      <td>0</td>\n",
       "    </tr>\n",
       "    <tr>\n",
       "      <th>1</th>\n",
       "      <td>10.829943</td>\n",
       "      <td>0.175592</td>\n",
       "      <td>1.294219</td>\n",
       "      <td>1</td>\n",
       "      <td>0</td>\n",
       "      <td>0</td>\n",
       "      <td>0</td>\n",
       "      <td>0</td>\n",
       "    </tr>\n",
       "    <tr>\n",
       "      <th>2</th>\n",
       "      <td>5.091079</td>\n",
       "      <td>0.805153</td>\n",
       "      <td>0.427715</td>\n",
       "      <td>1</td>\n",
       "      <td>0</td>\n",
       "      <td>0</td>\n",
       "      <td>1</td>\n",
       "      <td>0</td>\n",
       "    </tr>\n",
       "    <tr>\n",
       "      <th>3</th>\n",
       "      <td>2.247564</td>\n",
       "      <td>5.600044</td>\n",
       "      <td>0.362663</td>\n",
       "      <td>1</td>\n",
       "      <td>1</td>\n",
       "      <td>0</td>\n",
       "      <td>1</td>\n",
       "      <td>0</td>\n",
       "    </tr>\n",
       "    <tr>\n",
       "      <th>4</th>\n",
       "      <td>44.190936</td>\n",
       "      <td>0.566486</td>\n",
       "      <td>2.222767</td>\n",
       "      <td>1</td>\n",
       "      <td>1</td>\n",
       "      <td>0</td>\n",
       "      <td>1</td>\n",
       "      <td>0</td>\n",
       "    </tr>\n",
       "  </tbody>\n",
       "</table>\n",
       "</div>"
      ],
      "text/plain": [
       "   distance_from_home  distance_from_last_transaction  \\\n",
       "0           57.877857                        0.311140   \n",
       "1           10.829943                        0.175592   \n",
       "2            5.091079                        0.805153   \n",
       "3            2.247564                        5.600044   \n",
       "4           44.190936                        0.566486   \n",
       "\n",
       "   ratio_to_median_purchase_price  repeat_retailer  used_chip  \\\n",
       "0                        1.945940                1          1   \n",
       "1                        1.294219                1          0   \n",
       "2                        0.427715                1          0   \n",
       "3                        0.362663                1          1   \n",
       "4                        2.222767                1          1   \n",
       "\n",
       "   used_pin_number  online_order  fraud  \n",
       "0                0             0      0  \n",
       "1                0             0      0  \n",
       "2                0             1      0  \n",
       "3                0             1      0  \n",
       "4                0             1      0  "
      ]
     },
     "execution_count": 15,
     "metadata": {},
     "output_type": "execute_result"
    }
   ],
   "source": [
    "fraud.head()"
   ]
  },
  {
   "cell_type": "code",
   "execution_count": 16,
   "id": "64077c17-f13b-41e9-ad83-fa5b79529c96",
   "metadata": {},
   "outputs": [
    {
     "data": {
      "text/plain": [
       "0    9159\n",
       "1     841\n",
       "Name: fraud, dtype: int64"
      ]
     },
     "execution_count": 16,
     "metadata": {},
     "output_type": "execute_result"
    }
   ],
   "source": [
    "fraud[\"fraud\"].value_counts()"
   ]
  },
  {
   "cell_type": "markdown",
   "id": "ffbc8608-ba7c-44bf-8845-ceccc75f0890",
   "metadata": {},
   "source": [
    "0 = non-fraud\n",
    "1 = fraud"
   ]
  },
  {
   "cell_type": "markdown",
   "id": "fe675253-794f-4af9-8371-7a3473b87e20",
   "metadata": {},
   "source": [
    "**Task:** Write a problem statement."
   ]
  },
  {
   "cell_type": "markdown",
   "id": "7f4461e6-5f84-40ad-ad83-68f6ce4b5386",
   "metadata": {},
   "source": [
    "Determine whether or not a credit card transaction is fraud based on distance_from_home, distance_from_last_transaction, ratio_to_median_purchase_price, repeat_retailer, used_chip, used_pin_number, and online_order. "
   ]
  },
  {
   "cell_type": "markdown",
   "id": "6d23d3d3-fd3d-4143-a3f1-8efa98afc49b",
   "metadata": {},
   "source": [
    "**Task:** State parameters and variables."
   ]
  },
  {
   "cell_type": "markdown",
   "id": "5c967a15-0645-49e0-be9a-65197ed9ed21",
   "metadata": {},
   "source": [
    "**Variables and Parameters:**\n",
    "| Description | Symbol | Units | Type|\n",
    "|-------------|--------|-------|-------|\n",
    "| fraud | $Y$ |  | target (dependent) variable |\n",
    "| distance_from_home| $X1$ || feature (independent) variable |\n",
    "|distance_from_last_transaction | $X2$ | | feature (independent) variable |\n",
    "|ratio_to_median_purchase_price | $X3$ || feature (independent) variable |\n",
    "|repeat_retailer| $X4$ || feature (independent) variable |\n",
    "|used_chip| $X5$| | | |\n",
    "|used_pin_number\t| $X6$| | | |\n",
    "|online_order| $X7$| | | |\n",
    "| Regularization parameter| $\\alpha$| - | parameter |\n",
    "| Weights | $\\bf{W}$ | - | parameter |\n",
    "| Bias | $b$ | - | parameter |"
   ]
  },
  {
   "cell_type": "markdown",
   "id": "10ad41d2-2530-4e77-9989-4a82d8ab9d8c",
   "metadata": {},
   "source": [
    "#### Assumptions and constraints. "
   ]
  },
  {
   "cell_type": "markdown",
   "id": "7dbac1e5-5ab4-474d-ad60-31be87ba3707",
   "metadata": {},
   "source": [
    "- other than the features listed in variables and parameters, there are no other factors that influence whether or not a transaction is fraud\n",
    "- the measuring device to measure each feature and target is sufficiently accurate\n",
    "- we will assume we can split the data in to a training set and a testing set with a 70-30 split\n",
    "    - assume the model score is representative of when we deploy the model\n",
    "- each features is independent and each observation independent\n",
    "- the data is appropriate for logistic regression"
   ]
  },
  {
   "cell_type": "markdown",
   "id": "b3114814-e75e-4861-9ef2-b6ab69a1089c",
   "metadata": {},
   "source": [
    "Define the data matrix `X` and target vector `y`."
   ]
  },
  {
   "cell_type": "code",
   "execution_count": 17,
   "id": "425a6ae7-0396-45c3-bb28-920caa040809",
   "metadata": {},
   "outputs": [],
   "source": [
    "X=fraud[[\"distance_from_home\",\"distance_from_last_transaction\",\n",
    "       \"ratio_to_median_purchase_price\",\t\"repeat_retailer\",\t\"used_chip\",\t\"used_pin_number\"\t,\"online_order\"]]\n",
    "\n",
    "y = fraud[\"fraud\"]"
   ]
  },
  {
   "cell_type": "markdown",
   "id": "1dd52db2-129c-4ab0-bdb9-38d9968df7aa",
   "metadata": {},
   "source": [
    "Determine the appropriate amount of regularization to include and then construct a logistic regression model using `LogisticRegression`.  Print out the weights and the bias values determined from your logistic regression."
   ]
  },
  {
   "cell_type": "code",
   "execution_count": 18,
   "id": "62f12bfa-10d1-46fb-acb5-1620ad36cf1b",
   "metadata": {},
   "outputs": [],
   "source": [
    "def costCE(W,b,X,y):\n",
    "    N,p = X.shape\n",
    "    W = np.array(W).reshape(p,1)\n",
    "    y = np.array(y).reshape(N,1)\n",
    "    S = 1/(1 + np.exp(-(X@W + b)))\n",
    "    L = -1/N*np.sum(y*np.log(S) + (1 - y)*np.log(1 - S))\n",
    "    return L"
   ]
  },
  {
   "cell_type": "code",
   "execution_count": 20,
   "id": "44a068dd-f847-4081-8d9e-1dc74e5a4041",
   "metadata": {},
   "outputs": [
    {
     "name": "stderr",
     "output_type": "stream",
     "text": [
      "/opt/conda/lib/python3.11/site-packages/pandas/core/internals/blocks.py:351: RuntimeWarning: divide by zero encountered in log\n",
      "  result = func(self.values, **kwargs)\n",
      "/opt/conda/lib/python3.11/site-packages/pandas/core/internals/blocks.py:351: RuntimeWarning: divide by zero encountered in log\n",
      "  result = func(self.values, **kwargs)\n",
      "/opt/conda/lib/python3.11/site-packages/pandas/core/internals/blocks.py:351: RuntimeWarning: divide by zero encountered in log\n",
      "  result = func(self.values, **kwargs)\n",
      "/opt/conda/lib/python3.11/site-packages/pandas/core/internals/blocks.py:351: RuntimeWarning: divide by zero encountered in log\n",
      "  result = func(self.values, **kwargs)\n",
      "/opt/conda/lib/python3.11/site-packages/pandas/core/internals/blocks.py:351: RuntimeWarning: divide by zero encountered in log\n",
      "  result = func(self.values, **kwargs)\n"
     ]
    },
    {
     "data": {
      "image/png": "[encoded data removed]",
      "text/plain": [
       "<Figure size 640x480 with 2 Axes>"
      ]
     },
     "metadata": {},
     "output_type": "display_data"
    }
   ],
   "source": [
    "CEs = []\n",
    "Rs = []\n",
    "alphas = np.logspace(-2,4,30)\n",
    "for alpha in alphas:\n",
    "    model = LogisticRegression(C=1/alpha,max_iter=1000).fit(X,y)\n",
    "    W = model.coef_\n",
    "    b = model.intercept_\n",
    "    CE = costCE(W,b,X,y)\n",
    "    R = np.linalg.norm(W)**2\n",
    "    CEs.append(CE)\n",
    "    Rs.append(R)\n",
    "\n",
    "plt.scatter(Rs,CEs,c=np.log10(alphas))\n",
    "plt.grid(True), plt.colorbar(label='$\\log_{10}(alpha)$')\n",
    "plt.xlabel('$|| W ||^2$')\n",
    "plt.ylabel('Cross Entropy')\n",
    "plt.show()\n",
    "\n"
   ]
  },
  {
   "cell_type": "markdown",
   "id": "3dfd2695-3c28-470c-b011-e16c3febfc50",
   "metadata": {},
   "source": [
    "Choose $\\alpha = -1$"
   ]
  },
  {
   "cell_type": "code",
   "execution_count": 21,
   "id": "3ad17ba5-e2be-42d1-b40c-508b2bbb7bf0",
   "metadata": {},
   "outputs": [
    {
     "name": "stdout",
     "output_type": "stream",
     "text": [
      "W = [[ 0.01554413  0.01830325  0.73869319 -0.63876191 -1.16875605 -5.73881942\n",
      "   7.23691113]] , b = -10.583800904237497\n"
     ]
    }
   ],
   "source": [
    "model = LogisticRegression(C=1/10e-1,max_iter=1000).fit(X,y)\n",
    "\n",
    "W = model.coef_\n",
    "b = model.intercept_[0]\n",
    "print('W =',W,', b =',b)"
   ]
  },
  {
   "cell_type": "markdown",
   "id": "4641576a-0b0b-4a34-b148-a48e47fb3015",
   "metadata": {},
   "source": [
    "Split the data into a training set and a testing set and valuate the model."
   ]
  },
  {
   "cell_type": "code",
   "execution_count": 22,
   "id": "b999c9bd-df4e-4cb0-9566-42131c87d940",
   "metadata": {},
   "outputs": [],
   "source": [
    "X_train,X_test,y_train,y_test = train_test_split(X,y,test_size=0.3)"
   ]
  },
  {
   "cell_type": "code",
   "execution_count": 23,
   "id": "3ef39256-19a1-49a5-b88b-8e391b967cb0",
   "metadata": {},
   "outputs": [
    {
     "data": {
      "image/png": "[encoded data removed]",
      "text/plain": [
       "<Figure size 640x480 with 2 Axes>"
      ]
     },
     "metadata": {},
     "output_type": "display_data"
    }
   ],
   "source": [
    "CEs = []\n",
    "Rs = []\n",
    "alphas = np.logspace(-2,4,20)\n",
    "for alpha in alphas:\n",
    "    model = LogisticRegression(C=1/alpha,max_iter = 1000).fit(X_train,y_train)\n",
    "    W = model.coef_\n",
    "    b = model.intercept_\n",
    "    CE = costCE(W,b,X_train,y_train)\n",
    "    R = np.linalg.norm(W)**2\n",
    "    CEs.append(CE)\n",
    "    Rs.append(R)\n",
    "\n",
    "plt.scatter(Rs,CEs,c=np.log10(alphas))\n",
    "plt.grid(True), plt.colorbar(label='$\\log_{10}(alpha)$')\n",
    "plt.xlabel('$|| W ||^2$')\n",
    "plt.ylabel('Cross Entropy')\n",
    "plt.show()\n",
    "\n"
   ]
  },
  {
   "cell_type": "markdown",
   "id": "9a32cd58-a331-4a26-9b15-bc9319bc6349",
   "metadata": {},
   "source": [
    "once again, choose $\\alpha = -1$"
   ]
  },
  {
   "cell_type": "code",
   "execution_count": 24,
   "id": "da7717e1-3e0f-4f8e-b4fd-4d3e9c8c4fe2",
   "metadata": {},
   "outputs": [
    {
     "name": "stdout",
     "output_type": "stream",
     "text": [
      "W = [[ 0.01519479  0.01522666  0.69695212 -0.5519553  -1.04037345 -5.36102806\n",
      "   6.49878104]] , b = -9.829486342754194\n"
     ]
    }
   ],
   "source": [
    "model1 = LogisticRegression(C=1/10e-1,max_iter=1000).fit(X_train,y_train)\n",
    "\n",
    "W = model1.coef_\n",
    "b = model1.intercept_[0]\n",
    "print('W =',W,', b =',b)"
   ]
  },
  {
   "cell_type": "code",
   "execution_count": 25,
   "id": "d973d147-f759-420b-a420-c63fa1484f3a",
   "metadata": {},
   "outputs": [
    {
     "data": {
      "text/plain": [
       "0.9493333333333334"
      ]
     },
     "execution_count": 25,
     "metadata": {},
     "output_type": "execute_result"
    }
   ],
   "source": [
    "model1.score(X_test, y_test)"
   ]
  },
  {
   "cell_type": "code",
   "execution_count": 26,
   "id": "53dd8626-d45e-4522-8eee-efc3b69a624a",
   "metadata": {},
   "outputs": [
    {
     "data": {
      "text/plain": [
       "array([[2714,   23],\n",
       "       [ 129,  134]])"
      ]
     },
     "execution_count": 26,
     "metadata": {},
     "output_type": "execute_result"
    }
   ],
   "source": [
    "C = confusion_matrix(y_test,model1.predict(X_test))\n",
    "C"
   ]
  },
  {
   "cell_type": "code",
   "execution_count": 27,
   "id": "345541e8-ae1a-4ba0-8d16-2c15ab5e0426",
   "metadata": {},
   "outputs": [
    {
     "data": {
      "text/plain": [
       "0.5095057034220533"
      ]
     },
     "execution_count": 27,
     "metadata": {},
     "output_type": "execute_result"
    }
   ],
   "source": [
    "# % correctly identifying fraud transactions\n",
    "C[1,1]/(C[1,0] + C[1,1])"
   ]
  },
  {
   "cell_type": "markdown",
   "id": "b5b8d90f-b4c3-4a07-b9e7-c482fad92bd4",
   "metadata": {},
   "source": [
    "Scale the matrix `X` and perform a new logistic regression. "
   ]
  },
  {
   "cell_type": "code",
   "execution_count": 28,
   "id": "79565c41-ede6-4df2-a3e6-5dadc22f76f0",
   "metadata": {},
   "outputs": [],
   "source": [
    "Xs = StandardScaler().fit_transform(X)\n",
    "\n",
    "X_train_scaled, X_test_scaled, y_train_scaled, y_test_scaled = train_test_split(Xs, y, test_size=0.3)"
   ]
  },
  {
   "cell_type": "code",
   "execution_count": 29,
   "id": "6b33c42b-1ef9-4048-8df7-b1ab1816751d",
   "metadata": {},
   "outputs": [
    {
     "data": {
      "image/png": "[encoded data removed]",
      "text/plain": [
       "<Figure size 640x480 with 2 Axes>"
      ]
     },
     "metadata": {},
     "output_type": "display_data"
    }
   ],
   "source": [
    "CEs1 = []\n",
    "Rs1 = []\n",
    "alphas = np.logspace(-2,4,50)\n",
    "for alpha in alphas:\n",
    "    model = LogisticRegression(C=1/alpha,max_iter=10000).fit(X_train_scaled,y_train_scaled)\n",
    "    W = model.coef_\n",
    "    b = model.intercept_\n",
    "    CE = costCE(W,b,X_train_scaled,y_train_scaled)\n",
    "    R = np.linalg.norm(W)**2\n",
    "    CEs1.append(CE)\n",
    "    Rs1.append(R)\n",
    "\n",
    "plt.scatter(Rs1,CEs1,c=np.log10(alphas))\n",
    "plt.grid(True)\n",
    "plt.colorbar(label='$\\log_{10}(alpha)$')\n",
    "plt.xlabel('$|| W ||^2$')\n",
    "plt.ylabel('Cross Entropy')\n",
    "plt.show()"
   ]
  },
  {
   "cell_type": "markdown",
   "id": "cb444d24-84d0-4234-8504-e0905fdb8b26",
   "metadata": {},
   "source": [
    "Regularization parameter still choose $\\alpha = -1$"
   ]
  },
  {
   "cell_type": "code",
   "execution_count": 30,
   "id": "00716942-23d4-4c4b-b045-319c8bdcb813",
   "metadata": {},
   "outputs": [
    {
     "name": "stdout",
     "output_type": "stream",
     "text": [
      "W = [[ 1.08642019  0.29354443  2.40975518 -0.23412098 -0.67968161 -4.29872648\n",
      "   4.95231478]] , b = -7.825825011217924\n"
     ]
    }
   ],
   "source": [
    "model2 = LogisticRegression(C=1/10e-3,max_iter=1000).fit(X_train_scaled,y_train_scaled)\n",
    "\n",
    "W = model2.coef_\n",
    "b = model2.intercept_[0]\n",
    "print('W =',W,', b =',b)"
   ]
  },
  {
   "cell_type": "code",
   "execution_count": 31,
   "id": "16fbc981-7f9b-4aa0-baea-87de2fe316d5",
   "metadata": {},
   "outputs": [
    {
     "data": {
      "text/plain": [
       "0.9553333333333334"
      ]
     },
     "execution_count": 31,
     "metadata": {},
     "output_type": "execute_result"
    }
   ],
   "source": [
    "model2.score(X_test_scaled, y_test_scaled)"
   ]
  },
  {
   "cell_type": "code",
   "execution_count": 32,
   "id": "c6626bc9-9de0-42ff-a447-2523c719fba4",
   "metadata": {},
   "outputs": [
    {
     "data": {
      "text/plain": [
       "array([[2721,   16],\n",
       "       [ 118,  145]])"
      ]
     },
     "execution_count": 32,
     "metadata": {},
     "output_type": "execute_result"
    }
   ],
   "source": [
    "C1 = confusion_matrix(y_test_scaled,model2.predict(X_test_scaled))\n",
    "C1"
   ]
  },
  {
   "cell_type": "code",
   "execution_count": 33,
   "id": "4c37466d-3d18-4cd2-a3d2-d662b88c80a2",
   "metadata": {},
   "outputs": [
    {
     "data": {
      "text/plain": [
       "0.5513307984790875"
      ]
     },
     "execution_count": 33,
     "metadata": {},
     "output_type": "execute_result"
    }
   ],
   "source": [
    "# % correctly identifying fraud transactions\n",
    "C1[1,1]/(C1[1,0] + C1[1,1])"
   ]
  },
  {
   "cell_type": "markdown",
   "id": "f781e916-bea9-4213-ae1c-de5c7ff101a4",
   "metadata": {},
   "source": [
    "**Task:** Pick a model: the model without scaled data or the model with scaled data (be sure to justify your choice!). \n",
    "\n",
    "Using your chosen model, print out the $W$ and $b$ values.  From your values, determine the $2$ features which have the largest $W$ (in absolute magnitude).  Refit the model with these features and determine the accuracy.  \n",
    "\n",
    "Compare this model with the previous models.  Is there improvement?  In particular, produce the confusion matrices and discuss the false positives/negatives in the context of the modelling task."
   ]
  },
  {
   "cell_type": "code",
   "execution_count": 34,
   "id": "4622c009-40a5-49fc-bc23-20016ac13870",
   "metadata": {},
   "outputs": [
    {
     "name": "stdout",
     "output_type": "stream",
     "text": [
      "[[2714   23]\n",
      " [ 129  134]]\n",
      "[[2721   16]\n",
      " [ 118  145]]\n"
     ]
    }
   ],
   "source": [
    "print(C)\n",
    "print(C1)"
   ]
  },
  {
   "cell_type": "markdown",
   "id": "82009ecb-d545-4fb7-a2c5-fcd1b5eb620b",
   "metadata": {},
   "source": [
    "I'll pick the scaled model. It is more harmful to for the model to predict non-fraud when a transaction is actually fraud. Since in the first confusion matrix, the model is predicting more non-fraud when it's actually fraud, the scaled model is better. However, the models are about the same"
   ]
  },
  {
   "cell_type": "code",
   "execution_count": 35,
   "id": "28a3f4ea-7913-4da3-a844-1a1cd1de315e",
   "metadata": {},
   "outputs": [
    {
     "name": "stdout",
     "output_type": "stream",
     "text": [
      "W = [[ 1.08642019  0.29354443  2.40975518 -0.23412098 -0.67968161 -4.29872648\n",
      "   4.95231478]] , b = -7.825825011217924\n"
     ]
    }
   ],
   "source": [
    "W = model2.coef_\n",
    "b = model2.intercept_[0]\n",
    "print('W =',W,', b =',b)"
   ]
  },
  {
   "cell_type": "markdown",
   "id": "ecd5f04e-54e9-461e-919f-00d003691f2a",
   "metadata": {},
   "source": [
    "The 2 features with the largest weight are online order and used_pin_number."
   ]
  },
  {
   "cell_type": "code",
   "execution_count": 36,
   "id": "2c2b8d49-c177-4f61-a163-abc06866ab84",
   "metadata": {},
   "outputs": [],
   "source": [
    "X1 = fraud[[\"used_pin_number\", \"online_order\"]]\n",
    "y1 = fraud[\"fraud\"]"
   ]
  },
  {
   "cell_type": "code",
   "execution_count": 37,
   "id": "b24d1f0f-a00e-4bed-ae59-959312562220",
   "metadata": {},
   "outputs": [],
   "source": [
    "Xs1 = StandardScaler().fit_transform(X)\n",
    "\n",
    "X1_train_scaled, X1_test_scaled, y1_train_scaled, y1_test_scaled = train_test_split(X1, y1, test_size=0.3)"
   ]
  },
  {
   "cell_type": "code",
   "execution_count": 39,
   "id": "729cbbe0-0202-476c-8014-ca84c77128bc",
   "metadata": {},
   "outputs": [
    {
     "data": {
      "image/png": "[encoded data removed]",
      "text/plain": [
       "<Figure size 640x480 with 2 Axes>"
      ]
     },
     "metadata": {},
     "output_type": "display_data"
    }
   ],
   "source": [
    "CEs1 = []\n",
    "Rs1 = []\n",
    "alphas = np.logspace(-2,4,50)\n",
    "for alpha in alphas:\n",
    "    model = LogisticRegression(C=1/alpha,max_iter=1000).fit(X1_train_scaled,y1_train_scaled)\n",
    "    W = model.coef_\n",
    "    b = model.intercept_\n",
    "    CE = costCE(W,b,X1_train_scaled,y1_train_scaled)\n",
    "    R = np.linalg.norm(W)**2\n",
    "    CEs1.append(CE)\n",
    "    Rs1.append(R)\n",
    "\n",
    "plt.scatter(Rs1,CEs1,c=np.log10(alphas))\n",
    "plt.grid(True)\n",
    "plt.colorbar(label='$\\log_{10}(alpha)$')\n",
    "plt.xlabel('$|| W ||^2$')\n",
    "plt.ylabel('Cross Entropy')\n",
    "plt.show()"
   ]
  },
  {
   "cell_type": "markdown",
   "id": "4a7dc677-268b-42fa-a49e-4360e7692bdb",
   "metadata": {},
   "source": [
    "It looks like $\\alpha = -1$ is the best"
   ]
  },
  {
   "cell_type": "code",
   "execution_count": 40,
   "id": "9052fa46-db21-4f4f-ad44-8454458f04d8",
   "metadata": {},
   "outputs": [
    {
     "name": "stdout",
     "output_type": "stream",
     "text": [
      "W = [[-2.76215584  2.80129217]] , b = -4.632328334214859\n"
     ]
    }
   ],
   "source": [
    "model3 = LogisticRegression(C=1/10e-1,max_iter=1000).fit(X1_train_scaled,y1_train_scaled)\n",
    "\n",
    "W = model3.coef_\n",
    "b = model3.intercept_[0]\n",
    "print('W =',W,', b =',b)"
   ]
  },
  {
   "cell_type": "code",
   "execution_count": 41,
   "id": "6e702d0b-4a2e-429d-a198-ef2bb1b0c81b",
   "metadata": {},
   "outputs": [
    {
     "data": {
      "text/plain": [
       "0.914"
      ]
     },
     "execution_count": 41,
     "metadata": {},
     "output_type": "execute_result"
    }
   ],
   "source": [
    "model3.score(X1_test_scaled, y1_test_scaled)"
   ]
  },
  {
   "cell_type": "code",
   "execution_count": 42,
   "id": "9b392775-92d9-4fdf-924f-2f19acf4e2a7",
   "metadata": {},
   "outputs": [
    {
     "data": {
      "text/plain": [
       "array([[2742,    0],\n",
       "       [ 258,    0]])"
      ]
     },
     "execution_count": 42,
     "metadata": {},
     "output_type": "execute_result"
    }
   ],
   "source": [
    "C2 = confusion_matrix(y1_test_scaled,model3.predict(X1_test_scaled))\n",
    "C2"
   ]
  },
  {
   "cell_type": "code",
   "execution_count": 43,
   "id": "b8b9dc87-c836-4c77-9679-63fbe1ceee18",
   "metadata": {},
   "outputs": [
    {
     "data": {
      "text/plain": [
       "0.0"
      ]
     },
     "execution_count": 43,
     "metadata": {},
     "output_type": "execute_result"
    }
   ],
   "source": [
    "# % correctly identifying fraud transactions\n",
    "C2[1,1]/(C2[1,0] + C2[1,1])"
   ]
  },
  {
   "cell_type": "markdown",
   "id": "b46180f2-402a-4a32-9300-2427a594c921",
   "metadata": {},
   "source": [
    "**Task:** Once you have determine the $2$ features from the previous task, visualize the model and showcase how the model behaves with varying input.  Be creative here! "
   ]
  },
  {
   "cell_type": "code",
   "execution_count": 44,
   "id": "78259d0f-9008-4505-be45-6cdde236d2b4",
   "metadata": {},
   "outputs": [],
   "source": [
    "# x0 = np.linspace(-2,2,50) ## Here we are using a wider range than the plot above\n",
    "# x1 = np.linspace(-2,2,50)  ## for each linspace\n",
    "\n",
    "# X0,X1 = np.meshgrid(x0,x1)\n",
    "\n",
    "# W0 = model3.coef_[0,0]\n",
    "# W1 = model3.coef_[0,1] \n",
    "# b = model.intercept_[0]\n",
    "\n",
    "# Y = 1/(1 + np.exp(-(W0*X0 + W1*X1 + b)))\n",
    "\n",
    "# plt.contourf(X0,X1,Y,levels=10,alpha=0.2)\n",
    "# plt.contour(X0,X1,Y,levels=[0.5],colors='r')\n",
    "# plt.scatter(X[:,5],X[:,6],c=y,alpha=0.2,lw=0)\n",
    "# plt.grid(True), plt.colorbar()\n",
    "# plt.show()"
   ]
  },
  {
   "cell_type": "markdown",
   "id": "20b75b17-b0ce-4230-94af-358ff24b85fd",
   "metadata": {},
   "source": [
    "Analysis : \n",
    "The scaled data and un-scaled data model seems to produce around the same results. We have a high accuracy because most of the data is composed of non-fraud transaction. Therefore, even having a dummyclassifer model to default preduct non-fraud would have a high accuracy because we have unbalanced data. The confusion matrix, however, breaks down how the model is performing and it is about 65% accurate at predicting true fraud transactions whether the data for scaled data and 58% for unscaled data. When we take only the 2 features with the most weight, we get a really bad model, that doesn't predict true fraud transactions."
   ]
  },
  {
   "cell_type": "code",
   "execution_count": null,
   "id": "695d386b-2a52-445b-90fe-71a1225b043b",
   "metadata": {},
   "outputs": [],
   "source": []
  },
  {
   "cell_type": "markdown",
   "id": "930a30da-6534-4ac8-a720-86157fd2681d",
   "metadata": {},
   "source": [
    "#### Part 2 - Reflection \n",
    "This reflection should have two parts: \n",
    "\n",
    "1) Explain in a list of bullet points the changes you have made to your model in the version you are submitting and why you chose to make those changes. \n",
    "\n",
    "2) In a paragraph or two reflect on the following prompts:\n",
    "    - What part of the six modelling steps was the most challenging for you?\n",
    "    - What helped you to identify any mistakes/misconceptions in your original model?\n",
    "    - Do you think these techniques would be helpful for identifying mistakes/misconceptions in future assignments? Why or why not? "
   ]
  },
  {
   "cell_type": "markdown",
   "id": "fa9c9f2f-70a1-4320-98be-06620a0017f8",
   "metadata": {},
   "source": [
    "Question 1\n",
    "- line 31 had wrong x_test and y_test variable for calculating model.score(x,y) : changed to X1_test_scaled and y1_test_scaled\n",
    "- change all alpha to -1 as it's the best value. made alpha = np.logspace(-2,4,n) instead of np.logspace(-4,4,n)\n",
    "- change comment for all confusion matrix cells to % correctly identifying fraud transactions instead of non-fraud transactions\n",
    "- update analysis\n",
    "- added value counts of fraud transaction to see number of fraud = 0 and fraud = 1d = 1"
   ]
  },
  {
   "cell_type": "markdown",
   "id": "85843ec2-f7a0-4f3a-bc30-51b41156f5ab",
   "metadata": {},
   "source": [
    "Question 2\n",
    "- analysis was harder for this because there was really odd results from the model, especially the model with the 2 strongest features\n",
    "- going over the assignment and re-running each cell after restarting the kernel helped me identify mistakes. I realized there were some cells that didn't even run. Taking time to look at the graph helped me choose a better alpha value.\n",
    "- yes restarting kernel and re-running each cell would help me identify mistakes in the future. Sometimes old values are stored and I use them by accident so I should be more careful with which variable I'm using for predicting"
   ]
  }
 ],
 "metadata": {
  "kernelspec": {
   "display_name": "Python 3 (ipykernel)",
   "language": "python",
   "name": "python3"
  },
  "language_info": {
   "codemirror_mode": {
    "name": "ipython",
    "version": 3
   },
   "file_extension": ".py",
   "mimetype": "text/x-python",
   "name": "python",
   "nbconvert_exporter": "python",
   "pygments_lexer": "ipython3",
   "version": "3.11.6"
  }
 },
 "nbformat": 4,
 "nbformat_minor": 5
}
